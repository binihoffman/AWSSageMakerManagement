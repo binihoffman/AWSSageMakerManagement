{
 "cells": [
  {
   "cell_type": "code",
   "execution_count": 23,
   "metadata": {},
   "outputs": [],
   "source": [
    "import requests\n",
    "from datetime import datetime\n",
    "import getopt, sys\n",
    "import urllib3\n",
    "import boto3\n",
    "import json"
   ]
  },
  {
   "cell_type": "code",
   "execution_count": 24,
   "metadata": {},
   "outputs": [],
   "source": [
    "urllib3.disable_warnings(urllib3.exceptions.InsecureRequestWarning)"
   ]
  },
  {
   "cell_type": "code",
   "execution_count": 25,
   "metadata": {},
   "outputs": [
    {
     "data": {
      "text/plain": [
       "[{'id': '70f8e2f7-174f-4342-8774-21311eaaca40',\n",
       "  'path': 'xss-ml/example.ipynb',\n",
       "  'name': 'example.ipynb',\n",
       "  'type': 'notebook',\n",
       "  'kernel': {'id': '3d2ec52b-5a53-4fee-917d-606bdd6bcd6b',\n",
       "   'name': 'conda_python3',\n",
       "   'last_activity': '2019-09-24T05:59:48.175737Z',\n",
       "   'execution_state': 'idle',\n",
       "   'connections': 0},\n",
       "  'notebook': {'path': 'xss-ml/example.ipynb', 'name': 'example.ipynb'}},\n",
       " {'id': '69c60feb-8706-4077-abc7-84901834a7b4',\n",
       "  'path': 'xss-ml/exampleold.ipynb',\n",
       "  'name': 'exampleold.ipynb',\n",
       "  'type': 'notebook',\n",
       "  'kernel': {'id': 'd8facde7-5597-4a57-b96a-62b00cc4884d',\n",
       "   'name': 'conda_python3',\n",
       "   'last_activity': '2019-09-24T05:59:50.630770Z',\n",
       "   'execution_state': 'idle',\n",
       "   'connections': 0},\n",
       "  'notebook': {'path': 'xss-ml/exampleold.ipynb', 'name': 'exampleold.ipynb'}},\n",
       " {'id': 'ecb72048-76f8-46c6-8911-2449d85a7f73',\n",
       "  'path': 'Pipelines/load_pipeline_demo.ipynb',\n",
       "  'name': 'load_pipeline_demo.ipynb',\n",
       "  'type': 'notebook',\n",
       "  'kernel': {'id': '96bb49a4-00e2-4594-a166-b7a9dc44c624',\n",
       "   'name': 'conda_python3',\n",
       "   'last_activity': '2019-09-24T05:59:48.918972Z',\n",
       "   'execution_state': 'idle',\n",
       "   'connections': 0},\n",
       "  'notebook': {'path': 'Pipelines/load_pipeline_demo.ipynb',\n",
       "   'name': 'load_pipeline_demo.ipynb'}},\n",
       " {'id': '3254c7d0-23c9-4f7d-8731-4b8cc27f5f57',\n",
       "  'path': 'Pipelines/create_pipeline_demo.ipynb',\n",
       "  'name': 'create_pipeline_demo.ipynb',\n",
       "  'type': 'notebook',\n",
       "  'kernel': {'id': 'ab670f7f-a564-4d74-b90c-def963812bbc',\n",
       "   'name': 'conda_python3',\n",
       "   'last_activity': '2019-09-24T05:59:47.484063Z',\n",
       "   'execution_state': 'idle',\n",
       "   'connections': 0},\n",
       "  'notebook': {'path': 'Pipelines/create_pipeline_demo.ipynb',\n",
       "   'name': 'create_pipeline_demo.ipynb'}},\n",
       " {'id': 'fa4ca2b5-de89-4208-9dca-c0564e3aa90c',\n",
       "  'path': 'V2_decision_tree_Fraud/XSight_Decision_Tree_Model_Development.ipynb',\n",
       "  'name': 'XSight_Decision_Tree_Model_Development.ipynb',\n",
       "  'type': 'notebook',\n",
       "  'kernel': {'id': '936a0bb1-dbda-457f-b879-bece71614494',\n",
       "   'name': 'conda_python3',\n",
       "   'last_activity': '2019-09-24T05:59:53.496136Z',\n",
       "   'execution_state': 'idle',\n",
       "   'connections': 0},\n",
       "  'notebook': {'path': 'V2_decision_tree_Fraud/XSight_Decision_Tree_Model_Development.ipynb',\n",
       "   'name': 'XSight_Decision_Tree_Model_Development.ipynb'}},\n",
       " {'id': '7c45682e-395a-4f03-a31e-49bec7d77274',\n",
       "  'path': 'Examples/Decision_Tree/Decision_Tree_Model_Development.ipynb',\n",
       "  'name': 'Decision_Tree_Model_Development.ipynb',\n",
       "  'type': 'notebook',\n",
       "  'kernel': {'id': '147768c0-1880-4788-a6bb-6effda3d714b',\n",
       "   'name': 'conda_python3',\n",
       "   'last_activity': '2019-09-24T07:20:42.232846Z',\n",
       "   'execution_state': 'idle',\n",
       "   'connections': 0},\n",
       "  'notebook': {'path': 'Examples/Decision_Tree/Decision_Tree_Model_Development.ipynb',\n",
       "   'name': 'Decision_Tree_Model_Development.ipynb'}},\n",
       " {'id': '570d0454-815a-4d79-a796-a9a007cb8cfc',\n",
       "  'path': 'V1_decision_tree_Fraud/Untitled.ipynb',\n",
       "  'name': 'Untitled.ipynb',\n",
       "  'type': 'notebook',\n",
       "  'kernel': {'id': '7b1e5fa9-043f-4704-87f3-ed34cf55d821',\n",
       "   'name': 'conda_python3',\n",
       "   'last_activity': '2019-09-25T08:30:12.223251Z',\n",
       "   'execution_state': 'idle',\n",
       "   'connections': 0},\n",
       "  'notebook': {'path': 'V1_decision_tree_Fraud/Untitled.ipynb',\n",
       "   'name': 'Untitled.ipynb'}},\n",
       " {'id': '44d55f0d-6c54-4e62-9628-641b625101dc',\n",
       "  'path': 'V1_decision_tree_Fraud/ben_stuff.ipynb',\n",
       "  'name': 'ben_stuff.ipynb',\n",
       "  'type': 'notebook',\n",
       "  'kernel': {'id': '85f39d89-80c5-45db-aaf0-54364f9fe16d',\n",
       "   'name': 'conda_python3',\n",
       "   'last_activity': '2019-09-25T10:13:13.771451Z',\n",
       "   'execution_state': 'busy',\n",
       "   'connections': 1},\n",
       "  'notebook': {'path': 'V1_decision_tree_Fraud/ben_stuff.ipynb',\n",
       "   'name': 'ben_stuff.ipynb'}}]"
      ]
     },
     "execution_count": 25,
     "metadata": {},
     "output_type": "execute_result"
    }
   ],
   "source": [
    "## get sessions data on the instance notebooks\n",
    "response = requests.get('https://localhost:8443/api/sessions', verify=False)\n",
    "response.json()"
   ]
  },
  {
   "cell_type": "code",
   "execution_count": 26,
   "metadata": {},
   "outputs": [
    {
     "name": "stdout",
     "output_type": "stream",
     "text": [
      "b'[{\"id\": \"checkpoint\", \"last_modified\": \"2019-09-25T10:10:26.128177Z\"}]'\n"
     ]
    }
   ],
   "source": [
    "## get sessions checkpoints on the file\n",
    "response = requests.get('https://localhost:8443/api/contents/V1_decision_tree_Fraud/ben_stuff.ipynb/checkpoints', verify=False)\n",
    "print(*response)"
   ]
  },
  {
   "cell_type": "code",
   "execution_count": 27,
   "metadata": {},
   "outputs": [
    {
     "data": {
      "text/plain": [
       "[{'id': '3d2ec52b-5a53-4fee-917d-606bdd6bcd6b',\n",
       "  'name': 'conda_python3',\n",
       "  'last_activity': '2019-09-24T05:59:48.175737Z',\n",
       "  'execution_state': 'idle',\n",
       "  'connections': 0},\n",
       " {'id': 'd8facde7-5597-4a57-b96a-62b00cc4884d',\n",
       "  'name': 'conda_python3',\n",
       "  'last_activity': '2019-09-24T05:59:50.630770Z',\n",
       "  'execution_state': 'idle',\n",
       "  'connections': 0},\n",
       " {'id': '96bb49a4-00e2-4594-a166-b7a9dc44c624',\n",
       "  'name': 'conda_python3',\n",
       "  'last_activity': '2019-09-24T05:59:48.918972Z',\n",
       "  'execution_state': 'idle',\n",
       "  'connections': 0},\n",
       " {'id': 'ab670f7f-a564-4d74-b90c-def963812bbc',\n",
       "  'name': 'conda_python3',\n",
       "  'last_activity': '2019-09-24T05:59:47.484063Z',\n",
       "  'execution_state': 'idle',\n",
       "  'connections': 0},\n",
       " {'id': '936a0bb1-dbda-457f-b879-bece71614494',\n",
       "  'name': 'conda_python3',\n",
       "  'last_activity': '2019-09-24T05:59:53.496136Z',\n",
       "  'execution_state': 'idle',\n",
       "  'connections': 0},\n",
       " {'id': '147768c0-1880-4788-a6bb-6effda3d714b',\n",
       "  'name': 'conda_python3',\n",
       "  'last_activity': '2019-09-24T07:20:42.232846Z',\n",
       "  'execution_state': 'idle',\n",
       "  'connections': 0},\n",
       " {'id': '7b1e5fa9-043f-4704-87f3-ed34cf55d821',\n",
       "  'name': 'conda_python3',\n",
       "  'last_activity': '2019-09-25T08:30:12.223251Z',\n",
       "  'execution_state': 'idle',\n",
       "  'connections': 0},\n",
       " {'id': '85f39d89-80c5-45db-aaf0-54364f9fe16d',\n",
       "  'name': 'conda_python3',\n",
       "  'last_activity': '2019-09-25T10:13:18.593220Z',\n",
       "  'execution_state': 'busy',\n",
       "  'connections': 1}]"
      ]
     },
     "execution_count": 27,
     "metadata": {},
     "output_type": "execute_result"
    }
   ],
   "source": [
    "## get sessions checkpoints on the file\n",
    "response = requests.get('https://localhost:8443/api/kernels', verify=False)\n",
    "response.json()"
   ]
  },
  {
   "cell_type": "code",
   "execution_count": 28,
   "metadata": {},
   "outputs": [
    {
     "data": {
      "text/plain": [
       "{'connections': 1,\n",
       " 'kernels': 8,\n",
       " 'last_activity': '2019-09-25T10:13:21.552943Z',\n",
       " 'started': '2019-09-18T04:47:01.237267Z'}"
      ]
     },
     "execution_count": 28,
     "metadata": {},
     "output_type": "execute_result"
    }
   ],
   "source": [
    "## get status of the instance\n",
    "response = requests.get('https://localhost:8443/api/status', verify=False)\n",
    "response.json()"
   ]
  },
  {
   "cell_type": "code",
   "execution_count": 29,
   "metadata": {},
   "outputs": [
    {
     "name": "stdout",
     "output_type": "stream",
     "text": [
      "b'swagger: \\'2.0\\'\\ninfo:\\n  title: Jupyter Notebook API\\n  description: Notebook API\\n  version: \"5\"\\n  contact:\\n    name: Jupyter Proje'\n",
      "b'ct\\n    url: https://jupyter.org\\n# will be prefixed to all paths\\nbasePath: /\\nproduces:\\n  - application/json\\nconsumes:\\n  - applica'\n",
      "b'tion/json\\nparameters:\\n  kernel:\\n    name: kernel_id\\n    required: true\\n    in: path\\n    description: kernel uuid\\n    type: strin'\n",
      "b'g\\n    format: uuid\\n  session:\\n    name: session\\n    required: true\\n    in: path\\n    description: session uuid\\n    type: string\\n '\n",
      "b'   format: uuid\\n  path:\\n    name: path\\n    required: true\\n    in: path\\n    description: file path\\n    type: string\\n  checkpoint_'\n",
      "b'id:\\n    name: checkpoint_id\\n    required: true\\n    in: path\\n    description: Checkpoint id for a file\\n    type: string\\n  section'\n",
      "b'_name:\\n    name: section_name\\n    required: true\\n    in: path\\n    description: Name of config section\\n    type: string\\n  termina'\n",
      "b'l_id:\\n    name: terminal_id\\n    required: true\\n    in: path\\n    description: ID of terminal session\\n    type: string\\n\\npaths:\\n\\n\\n '\n",
      "b\" /api/contents/{path}:\\n    parameters:\\n      - $ref: '#/parameters/path'\\n    get:\\n      summary: Get contents of file or directo\"\n",
      "b'ry\\n      description: \"A client can optionally specify a type and/or format argument via URL parameter. When given, the Contents'\n",
      "b' service shall return a model in the requested type and/or format. If the request cannot be satisfied, e.g. type=text is request'\n",
      "b\"ed, but the file is binary, then the request shall fail with 400 and have a JSON response containing a 'reason' field, with the \"\n",
      "b'value \\'bad format\\' or \\'bad type\\', depending on what was requested.\"\\n      tags:\\n        - contents\\n      parameters:\\n        - n'\n",
      "b\"ame: type\\n          in: query\\n          description: File type ('file', 'directory')\\n          type: string\\n          enum:\\n    \"\n",
      "b'        - file\\n            - directory\\n        - name: format\\n          in: query\\n          description: \"How file content shoul'\n",
      "b'd be returned (\\'text\\', \\'base64\\')\"\\n          type: string\\n          enum:\\n            - text\\n            - base64\\n        - name:'\n",
      "b' content\\n          in: query\\n          description: \"Return content (0 for no content, 1 for return content)\"\\n          type: in'\n",
      "b'teger\\n      responses:\\n        404:\\n          description: No item found\\n        400:\\n          description: Bad request\\n       '\n",
      "b'   schema:\\n            type: object\\n            properties:\\n              error:\\n                type: string\\n                de'\n",
      "b'scription: Error condition\\n              reason:\\n                type: string\\n                description: Explanation of error '\n",
      "b'reason\\n        200:\\n          description: Contents of file or directory\\n          headers:\\n            Last-Modified:\\n         '\n",
      "b'     description: Last modified date for file\\n              type: string\\n              format: dateTime\\n          schema:\\n      '\n",
      "b\"      $ref: '#/definitions/Contents'\\n        500:\\n          description: Model key error\\n    post:\\n      summary: Create a new f\"\n",
      "b'ile in the specified path\\n      description: \"A POST to /api/contents/path creates a New untitled, empty file or directory. A PO'\n",
      "b'ST to /api/contents/path with body {\\'copy_from\\': \\'/path/to/OtherNotebook.ipynb\\'} creates a new copy of OtherNotebook in path.\"\\n '\n",
      "b'     tags:\\n        - contents\\n      parameters:\\n        - name: model\\n          in: body\\n          description: Path of file to '\n",
      "b'copy\\n          schema:\\n            type: object\\n            properties:\\n              copy_from:\\n                type: string\\n  '\n",
      "b'            ext:\\n                type: string\\n              type:\\n                type: string\\n      responses:\\n        201:\\n   '\n",
      "b'       description: File created\\n          headers:\\n            Location:\\n              description: URL for the new file\\n      '\n",
      "b\"        type: string\\n              format: url\\n          schema:\\n            $ref: '#/definitions/Contents'\\n        404:\\n       \"\n",
      "b'   description: No item found\\n        400:\\n          description: Bad request\\n          schema:\\n            type: object\\n       '\n",
      "b'     properties:\\n              error:\\n                type: string\\n                description: Error condition\\n              re'\n",
      "b'ason:\\n                type: string\\n                description: Explanation of error reason\\n    patch:\\n      summary: Rename a f'\n",
      "b'ile or directory without re-uploading content\\n      tags:\\n        - contents\\n      parameters:\\n        - name: path\\n          in'\n",
      "b': body\\n          required: true\\n          description: New path for file or directory.\\n          schema:\\n            type: objec'\n",
      "b't\\n            properties:\\n              path:\\n                type: string\\n                format: path\\n                descript'\n",
      "b'ion: New path for file or directory\\n      responses:\\n        200:\\n          description: Path updated\\n          headers:\\n       '\n",
      "b'     Location:\\n              description: Updated URL for the file or directory\\n              type: string\\n              format:'\n",
      "b\" url\\n          schema:\\n            $ref: '#/definitions/Contents'\\n        400:\\n          description: No data provided\\n         \"\n",
      "b' schema:\\n            type: object\\n            properties:\\n              error:\\n                type: string\\n                desc'\n",
      "b'ription: Error condition\\n              reason:\\n                type: string\\n                description: Explanation of error re'\n",
      "b'ason\\n    put:\\n      summary: Save or upload file.\\n      description: \"Saves the file in the location specified by name and path.'\n",
      "b'  PUT is very similar to POST, but the requester specifies the name, whereas with POST, the server picks the name.\"\\n      tags:\\n'\n",
      "b'        - contents\\n      parameters:\\n        - name: model\\n          in: body\\n          description: New path for file or direct'\n",
      "b'ory\\n          schema:\\n            type: object\\n            properties:\\n              name:\\n                type: string\\n        '\n",
      "b'        description: The new filename if changed\\n              path:\\n                type: string\\n                description: N'\n",
      "b\"ew path for file or directory\\n              type:\\n                type: string\\n                description: Path dtype ('noteboo\"\n",
      "b\"k', 'file', 'directory')\\n              format:\\n                type: string\\n                description: File format ('json', 't\"\n",
      "b\"ext', 'base64')\\n              content:\\n                type: string\\n                description: The actual body of the document\"\n",
      "b' excluding directory type\\n      responses:\\n        200:\\n          description: File saved\\n          headers:\\n            Locatio'\n",
      "b'n:\\n              description: Updated URL for the file or directory\\n              type: string\\n              format: url\\n       '\n",
      "b\"   schema:\\n            $ref: '#/definitions/Contents'\\n        201:\\n          description: Path created\\n          headers:\\n      \"\n",
      "b'      Location:\\n              description: URL for the file or directory\\n              type: string\\n              format: url\\n  '\n",
      "b\"        schema:\\n            $ref: '#/definitions/Contents'\\n        400:\\n          description: No data provided\\n          schema\"\n",
      "b':\\n            type: object\\n            properties:\\n              error:\\n                type: string\\n                description'\n",
      "b': Error condition\\n              reason:\\n                type: string\\n                description: Explanation of error reason\\n  '\n",
      "b'  delete:\\n      summary: Delete a file in the given path\\n      tags:\\n        - contents\\n      responses:\\n        204:\\n          '\n",
      "b'description: File deleted\\n          headers:\\n            Location:\\n              description: URL for the removed file\\n         '\n",
      "b\"     type: string\\n              format: url\\n  /api/contents/{path}/checkpoints:\\n    parameters:\\n      - $ref: '#/parameters/path\"\n",
      "b\"'\\n    get:\\n      summary: Get a list of checkpoints for a file\\n      description: List checkpoints for a given file. There will \"\n",
      "b'typically be zero or one results.\\n      tags:\\n        - contents\\n      responses:\\n        404:\\n          description: No item fo'\n",
      "b'und\\n        400:\\n          description: Bad request\\n          schema:\\n            type: object\\n            properties:\\n         '\n",
      "b'     error:\\n                type: string\\n                description: Error condition\\n              reason:\\n                type'\n",
      "b': string\\n                description: Explanation of error reason\\n        200:\\n          description: List of checkpoints for a '\n",
      "b\"file\\n          schema:\\n            type: array\\n            items:\\n              $ref: '#/definitions/Checkpoints'\\n        500:\\n \"\n",
      "b'         description: Model key error\\n    post:\\n      summary: Create a new checkpoint for a file\\n      description: \"Create a n'\n",
      "b'ew checkpoint with the current state of a file. With the default FileContentsManager, only one checkpoint is supported, so creat'\n",
      "b'ing new checkpoints clobbers existing ones.\"\\n      tags:\\n        - contents\\n      responses:\\n        201:\\n          description:'\n",
      "b' Checkpoint created\\n          headers:\\n            Location:\\n              description: URL for the checkpoint\\n              typ'\n",
      "b\"e: string\\n              format: url\\n          schema:\\n            $ref: '#/definitions/Checkpoints'\\n        404:\\n          descr\"\n",
      "b'iption: No item found\\n        400:\\n          description: Bad request\\n          schema:\\n            type: object\\n            pro'\n",
      "b'perties:\\n              error:\\n                type: string\\n                description: Error condition\\n              reason:\\n  '\n",
      "b'              type: string\\n                description: Explanation of error reason\\n  /api/contents/{path}/checkpoints/{checkpoi'\n",
      "b'nt_id}:\\n    post:\\n      summary: Restore a file to a particular checkpointed state\\n      parameters:\\n        - $ref: \"#/paramete'\n",
      "b'rs/path\"\\n        - $ref: \"#/parameters/checkpoint_id\"\\n      tags:\\n        - contents\\n      responses:\\n        204:\\n          des'\n",
      "b'cription: Checkpoint restored\\n        400:\\n          description: Bad request\\n          schema:\\n            type: object\\n       '\n",
      "b'     properties:\\n              error:\\n                type: string\\n                description: Error condition\\n              re'\n",
      "b'ason:\\n                type: string\\n                description: Explanation of error reason\\n    delete:\\n      summary: Delete a '\n",
      "b'checkpoint\\n      parameters:\\n        - $ref: \"#/parameters/path\"\\n        - $ref: \"#/parameters/checkpoint_id\"\\n      tags:\\n      '\n",
      "b'  - contents\\n      responses:\\n        204:\\n          description: Checkpoint deleted\\n  /api/sessions/{session}:\\n    parameters:\\n'\n",
      "b\"      - $ref: '#/parameters/session'\\n    get:\\n      summary: Get session\\n      tags:\\n        - sessions\\n      responses:\\n       \"\n",
      "b' 200:\\n          description: Session\\n          schema:\\n            $ref: \\'#/definitions/Session\\'\\n    patch:\\n      summary: \"This'\n",
      "b' can be used to rename the session.\"\\n      tags:\\n        - sessions\\n      parameters:\\n        - name: model\\n          in: body\\n '\n",
      "b\"         required: true\\n          schema:\\n            $ref: '#/definitions/Session'\\n      responses:\\n        200:\\n          desc\"\n",
      "b\"ription: Session\\n          schema:\\n            $ref: '#/definitions/Session'\\n        400:\\n          description: No data provide\"\n",
      "b'd\\n    delete:\\n      summary: Delete a session\\n      tags:\\n        - sessions\\n      responses:\\n        204:\\n          description'\n",
      "b': Session (and kernel) were deleted\\n        410:\\n          description: \"Kernel was deleted before the session, and the session '\n",
      "b'was *not* deleted (TODO - check to make sure session wasn\\'t deleted)\"\\n  /api/sessions:\\n    get:\\n      summary: List available se'\n",
      "b'ssions\\n      tags:\\n        - sessions\\n      responses:\\n        200:\\n          description: List of current sessions\\n          sc'\n",
      "b'hema:\\n            type: array\\n            items:\\n              $ref: \\'#/definitions/Session\\'\\n    post:\\n      summary: \"Create a '\n",
      "b'new session, or return an existing session if a session of the same name already exists\"\\n      tags:\\n        - sessions\\n      pa'\n",
      "b\"rameters:\\n        - name: session\\n          in: body\\n          schema:\\n            $ref: '#/definitions/Session'\\n      responses\"\n",
      "b\":\\n        201:\\n          description: Session created or returned\\n          schema:\\n            $ref: '#/definitions/Session'\\n  \"\n",
      "b'        headers:\\n            Location:\\n              description: URL for session commands\\n              type: string\\n          '\n",
      "b'    format: url\\n        501:\\n          description: Session not available\\n          schema:\\n            type: object\\n           '\n",
      "b' description: error message\\n            properties:\\n              message:\\n                type: string\\n              short_mess'\n",
      "b'age:\\n                type: string\\n\\n  /api/kernels:\\n    get:\\n      summary: List the JSON data for all kernels that are currently'\n",
      "b' running\\n      tags:\\n        - kernels\\n      responses:\\n        200:\\n          description: List of currently-running kernel uui'\n",
      "b\"ds\\n          schema:\\n            type: array\\n            items:\\n              $ref: '#/definitions/Kernel'\\n    post:\\n      summa\"\n",
      "b'ry: Start a kernel and return the uuid\\n      tags:\\n        - kernels\\n      parameters:\\n        - name: name\\n          in: body\\n '\n",
      "b'         description: Kernel spec name (defaults to default kernel spec for server)\\n          schema:\\n            type: object\\n '\n",
      "b'           properties:\\n              name:\\n                type: string\\n      responses:\\n        201:\\n          description: Ker'\n",
      "b\"nel started\\n          schema:\\n            $ref: '#/definitions/Kernel'\\n          headers:\\n            Location:\\n              de\"\n",
      "b'scription: Model for started kernel\\n              type: string\\n              format: url\\n  /api/kernels/{kernel_id}:\\n    paramet'\n",
      "b\"ers:\\n      - $ref: '#/parameters/kernel'\\n    get:\\n      summary: Get kernel information\\n      tags:\\n        - kernels\\n      resp\"\n",
      "b\"onses:\\n        200:\\n          description: Kernel information\\n          schema:\\n            $ref: '#/definitions/Kernel'\\n    del\"\n",
      "b'ete:\\n      summary: Kill a kernel and delete the kernel id\\n      tags:\\n        - kernels\\n      responses:\\n        204:\\n         '\n",
      "b\" description: Kernel deleted\\n  /api/kernels/{kernel_id}/interrupt:\\n    parameters:\\n      - $ref: '#/parameters/kernel'\\n    post:\"\n",
      "b'\\n      summary: Interrupt a kernel\\n      tags:\\n        - kernels\\n      responses:\\n        204:\\n          description: Kernel int'\n",
      "b\"errupted\\n  /api/kernels/{kernel_id}/restart:\\n    parameters:\\n      - $ref: '#/parameters/kernel'\\n    post:\\n      summary: Restar\"\n",
      "b't a kernel\\n      tags:\\n        - kernels\\n      responses:\\n        200:\\n          description: Kernel interrupted\\n          heade'\n",
      "b'rs:\\n            Location:\\n              description: URL for kernel commands\\n              type: string\\n              format: ur'\n",
      "b\"l\\n          schema:\\n            $ref: '#/definitions/Kernel'\\n\\n  /api/kernelspecs:\\n    get:\\n      summary: Get kernel specs\\n     \"\n",
      "b' tags:\\n        - kernelspecs\\n      responses:\\n        200:\\n          description: Kernel specs\\n          schema:\\n            typ'\n",
      "b'e: object\\n            properties:\\n              default:\\n                type: string\\n                description: Default kerne'\n",
      "b\"l name\\n              kernelspecs:\\n                type: object\\n                additionalProperties:\\n                  $ref: '#/\"\n",
      "b\"definitions/KernelSpec'\\n  /api/config/{section_name}:\\n    get:\\n      summary: Get a configuration section by name\\n      paramete\"\n",
      "b'rs:\\n        - $ref: \"#/parameters/section_name\"\\n      tags:\\n        - config\\n      responses:\\n        200:\\n          description'\n",
      "b': Configuration object\\n          schema:\\n            type: object\\n    patch:\\n      summary: Update a configuration section by na'\n",
      "b'me\\n      tags:\\n        - config\\n      parameters:\\n        - $ref: \"#/parameters/section_name\"\\n        - name: configuration\\n    '\n",
      "b'      in: body\\n          schema:\\n            type: object\\n      responses:\\n        200:\\n          description: Configuration obj'\n",
      "b'ect\\n          schema:\\n            type: object\\n\\n  /api/terminals:\\n    get:\\n      summary: Get available terminals\\n      tags:\\n  '\n",
      "b'      - terminals\\n      responses:\\n        200:\\n          description: A list of all available terminal ids.\\n          schema:\\n '\n",
      "b\"           type: array\\n            items:\\n              $ref: '#/definitions/Terminal_ID'\\n        403:\\n          description: Fo\"\n",
      "b'rbidden to access\\n        404:\\n          description: Not found\\n\\n    post:\\n      summary: Create a new terminal\\n      tags:\\n    '\n",
      "b'    - terminals\\n      responses:\\n        200:\\n          description: Succesfully created a new terminal\\n          schema:\\n      '\n",
      "b\"      $ref: '#/definitions/Terminal_ID'\\n        403:\\n          description: Forbidden to access\\n        404:\\n          descripti\"\n",
      "b'on: Not found\\n\\n  /api/terminals/{terminal_id}:\\n    get:\\n      summary: Get a terminal session corresponding to an id.\\n      tags'\n",
      "b\":\\n        - terminals\\n      parameters:\\n        - $ref: '#/parameters/terminal_id'\\n      responses:\\n        200:\\n          descr\"\n",
      "b\"iption: Terminal session with given id\\n          schema:\\n            $ref: '#/definitions/Terminal_ID'\\n        403:\\n          de\"\n",
      "b'scription: Forbidden to access\\n        404:\\n          description: Not found\\n\\n    delete:\\n      summary: Delete a terminal sessi'\n",
      "b\"on corresponding to an id.\\n      tags:\\n        - terminals\\n      parameters:\\n        - $ref: '#/parameters/terminal_id'\\n      re\"\n",
      "b'sponses:\\n        204:\\n          description: Succesfully deleted terminal session\\n        403:\\n          description: Forbidden '\n",
      "b'to access\\n        404:\\n          description: Not found\\n\\n\\n\\n\\n  /api/status:\\n    get:\\n      summary: Get the current status/activi'\n",
      "b'ty of the server.\\n      tags:\\n        - status\\n      responses:\\n        200:\\n          description: The current status of the se'\n",
      "b\"rver\\n          schema:\\n              $ref: '#/definitions/APIStatus'\\n\\n  /api/spec.yaml:\\n    get:\\n      summary: Get the current \"\n",
      "b\"spec for the notebook server's APIs.\\n      tags:\\n        - api-spec\\n      produces:\\n        - text/x-yaml\\n      responses:\\n     \"\n",
      "b\"   200:\\n          description: The current spec for the notebook server's APIs.\\n          schema:\\n              type: file\\ndefin\"\n",
      "b'itions:\\n  APIStatus:\\n    description: |\\n      Notebook server API status.\\n      Added in notebook 5.0.\\n    properties:\\n      sta'\n",
      "b'rted:\\n        type: string\\n        description: |\\n          ISO8601 timestamp indicating when the notebook server started.\\n     '\n",
      "b' last_activity:\\n        type: string\\n        description: |\\n          ISO8601 timestamp indicating the last activity on the serv'\n",
      "b'er,\\n          either on the REST API or kernel activity.\\n      connections:\\n        type: number\\n        description: |\\n        '\n",
      "b'  The total number of currently open connections to kernels.\\n      kernels:\\n        type: number\\n        description: |\\n        '\n",
      "b'  The total number of running kernels.\\n  KernelSpec:\\n    description: Kernel spec (contents of kernel.json)\\n    properties:\\n    '\n",
      "b\"  name:\\n        type: string\\n        description: Unique name for kernel\\n      KernelSpecFile:\\n        $ref: '#/definitions/Kern\"\n",
      "b\"elSpecFile'\\n      resources:\\n        type: object\\n        properties:\\n          kernel.js:\\n            type: string\\n            \"\n",
      "b'format: filename\\n            description: path for kernel.js file\\n          kernel.css:\\n            type: string\\n            for'\n",
      "b'mat: filename\\n            description: path for kernel.css file\\n          logo-*:\\n            type: string\\n            format: f'\n",
      "b'ilename\\n            description: path for logo file.  Logo filenames are of the form `logo-widthxheight`\\n  KernelSpecFile:\\n    d'\n",
      "b'escription: Kernel spec json file\\n    required:\\n      - argv\\n      - display_name\\n      - language\\n    properties:\\n      languag'\n",
      "b'e:\\n        type: string\\n        description: The programming language which this kernel runs. This will be stored in notebook me'\n",
      "b'tadata.\\n      argv:\\n        type: array\\n        description: \"A list of command line arguments used to start the kernel. The tex'\n",
      "b't `{connection_file}` in any argument will be replaced with the path to the connection file.\"\\n        items:\\n          type: str'\n",
      "b'ing\\n      display_name:\\n        type: string\\n        description: \"The kernel\\'s name as it should be displayed in the UI. Unlike'\n",
      "b' the kernel name used in the API, this can contain arbitrary unicode characters.\"\\n      codemirror_mode:\\n        type: string\\n  '\n",
      "b'      description: Codemirror mode.  Can be a string *or* an valid Codemirror mode object.  This defaults to the string from the'\n",
      "b' `language` property.\\n      env:\\n        type: object\\n        description: A dictionary of environment variables to set for the '\n",
      "b'kernel. These will be added to the current environment variables.\\n        additionalProperties:\\n          type: string\\n      hel'\n",
      "b'p_links:\\n        type: array\\n        description: Help items to be displayed in the help menu in the notebook UI.\\n        items:'\n",
      "b'\\n          type: object\\n          required:\\n          - text\\n          - url\\n          properties:\\n            text:\\n           '\n",
      "b'   type: string\\n              description: menu item link text\\n            url:\\n              type: string\\n              format:'\n",
      "b' URL\\n              description: menu item link url\\n  Kernel:\\n    description: Kernel information\\n    required:\\n      - id\\n      '\n",
      "b'- name\\n    properties:\\n      id:\\n        type: string\\n        format: uuid\\n        description: uuid of kernel\\n      name:\\n     '\n",
      "b'   type: string\\n        description: kernel spec name\\n      last_activity:\\n        type: string\\n        description: |\\n         '\n",
      "b\" ISO 8601 timestamp for the last-seen activity on this kernel.\\n          Use this in combination with execution_state == 'idle' \"\n",
      "b\"to identify\\n          which kernels have been idle since a given time.\\n          Timestamps will be UTC, indicated 'Z' suffix.\\n \"\n",
      "b'         Added in notebook server 5.0.\\n      connections:\\n        type: number\\n        description: |\\n          The number of ac'\n",
      "b'tive connections to this kernel.\\n      execution_state:\\n        type: string\\n        description: |\\n          Current execution '\n",
      "b\"state of the kernel (typically 'idle' or 'busy', but may be other values, such as 'starting').\\n          Added in notebook serve\"\n",
      "b'r 5.0.\\n  Session:\\n    description: A session\\n    type: object\\n    properties:\\n      id:\\n        type: string\\n        format: uui'\n",
      "b'd\\n      path:\\n        type: string\\n        description: path to the session\\n      name:\\n        type: string\\n        description'\n",
      "b\": name of the session\\n      type:\\n        type: string\\n        description: session type\\n      kernel:\\n        $ref: '#/definiti\"\n",
      "b'ons/Kernel\\'\\n  Contents:\\n    description: \"A contents object.  The content and format keys may be null if content is not containe'\n",
      "b'd.  If type is \\'file\\', then the mimetype will be null.\"\\n    type: object\\n    required:\\n      - type\\n      - name\\n      - path\\n  '\n",
      "b'    - writable\\n      - created\\n      - last_modified\\n      - mimetype\\n      - format\\n      - content\\n    properties:\\n      name:'\n",
      "b'\\n        type: string\\n        description: \"Name of file or directory, equivalent to the last part of the path\"\\n      path:\\n    '\n",
      "b'    type: string\\n        description: Full path for file or directory\\n      type:\\n        type: string\\n        description: Type'\n",
      "b' of content\\n        enum:\\n          - directory\\n          - file\\n          - notebook\\n      writable:\\n        type: boolean\\n    '\n",
      "b'    description: indicates whether the requester has permission to edit the file\\n      created:\\n        type: string\\n        des'\n",
      "b'cription: Creation timestamp\\n        format: dateTime\\n      last_modified:\\n        type: string\\n        description: Last modifi'\n",
      "b'ed timestamp\\n        format: dateTime\\n      size:\\n        type: integer\\n        description: \"The size of the file or notebook i'\n",
      "b'n bytes. If no size is provided, defaults to null.\"\\n      mimetype:\\n        type: string\\n        description: \"The mimetype of a'\n",
      "b' file.  If content is not null, and type is \\'file\\', this will contain the mimetype of the file, otherwise this will be null.\"\\n  '\n",
      "b'    content:\\n        type: string\\n        description: \"The content, if requested (otherwise null).  Will be an array if type is'\n",
      "b' \\'directory\\'\"\\n      format:\\n        type: string\\n        description: Format of content (one of null, \\'text\\', \\'base64\\', \\'json\\')\\n'\n",
      "b'  Checkpoints:\\n    description: A checkpoint object.\\n    type: object\\n    required:\\n      - id\\n      - last_modified\\n    propert'\n",
      "b'ies:\\n      id:\\n        type: string\\n        description: Unique id for the checkpoint.\\n      last_modified:\\n        type: string'\n",
      "b'\\n        description: Last modified timestamp\\n        format: dateTime\\n  Terminal_ID:\\n    description: A Terminal_ID object\\n    '\n",
      "b'type: object\\n    required:\\n      - name\\n    properties:\\n      name:\\n        type: string\\n        description: name of terminal I'\n",
      "b'D\\n'\n"
     ]
    }
   ],
   "source": [
    "## get the current spec for the notebook server's APIs\n",
    "response = requests.get('https://localhost:8443/api/spec.yaml', verify=False)\n",
    "print(*response, sep = \"\\n\")"
   ]
  },
  {
   "cell_type": "code",
   "execution_count": 30,
   "metadata": {},
   "outputs": [],
   "source": [
    "def get_notebook_name():\n",
    "    log_path = '/opt/ml/metadata/resource-metadata.json'\n",
    "    with open(log_path, 'r') as logs:\n",
    "        _logs = json.load(logs)\n",
    "    return _logs['ResourceName']"
   ]
  },
  {
   "cell_type": "code",
   "execution_count": 37,
   "metadata": {},
   "outputs": [],
   "source": [
    "def get_notebook_arn():\n",
    "    log_path = '/opt/ml/metadata/resource-metadata.json'\n",
    "    with open(log_path, 'r') as logs:\n",
    "        _logs = json.load(logs)\n",
    "    return _logs['ResourceArn']"
   ]
  },
  {
   "cell_type": "code",
   "execution_count": 38,
   "metadata": {},
   "outputs": [
    {
     "data": {
      "text/plain": [
       "'arn:aws:sagemaker:us-east-1:694164520908:notebook-instance/xss-instance-882519-nibendemo'"
      ]
     },
     "execution_count": 38,
     "metadata": {},
     "output_type": "execute_result"
    }
   ],
   "source": [
    "get_notebook_arn()"
   ]
  },
  {
   "cell_type": "code",
   "execution_count": 31,
   "metadata": {},
   "outputs": [
    {
     "data": {
      "text/plain": [
       "'XSS-Instance-882519-NIBenDemo'"
      ]
     },
     "execution_count": 31,
     "metadata": {},
     "output_type": "execute_result"
    }
   ],
   "source": [
    "get_notebook_name()"
   ]
  },
  {
   "cell_type": "code",
   "execution_count": null,
   "metadata": {},
   "outputs": [],
   "source": [
    "## stop notebook instance\n",
    "client = boto3.client('sagemaker')\n",
    "    client.stop_notebook_instance(\n",
    "        NotebookInstanceName=get_notebook_name()\n",
    "    )"
   ]
  },
  {
   "cell_type": "code",
   "execution_count": 40,
   "metadata": {},
   "outputs": [
    {
     "data": {
      "text/plain": [
       "{'Tags': [{'Key': 'ApplicationID', 'Value': 'XSightStudio'},\n",
       "  {'Key': 'Deployment', 'Value': 'XSS Management Service API'},\n",
       "  {'Key': 'Owner', 'Value': '882519'}],\n",
       " 'ResponseMetadata': {'RequestId': '24302a95-5ecc-4b68-b2fb-a2928cf27d91',\n",
       "  'HTTPStatusCode': 200,\n",
       "  'HTTPHeaders': {'x-amzn-requestid': '24302a95-5ecc-4b68-b2fb-a2928cf27d91',\n",
       "   'content-type': 'application/x-amz-json-1.1',\n",
       "   'content-length': '148',\n",
       "   'date': 'Wed, 25 Sep 2019 10:21:28 GMT'},\n",
       "  'RetryAttempts': 0}}"
      ]
     },
     "execution_count": 40,
     "metadata": {},
     "output_type": "execute_result"
    }
   ],
   "source": [
    "## stop notebook instance\n",
    "client = boto3.client('sagemaker')\n",
    "client.list_tags(ResourceArn=get_notebook_arn())\n"
   ]
  }
 ],
 "metadata": {
  "kernelspec": {
   "display_name": "conda_python3",
   "language": "python",
   "name": "conda_python3"
  },
  "language_info": {
   "codemirror_mode": {
    "name": "ipython",
    "version": 3
   },
   "file_extension": ".py",
   "mimetype": "text/x-python",
   "name": "python",
   "nbconvert_exporter": "python",
   "pygments_lexer": "ipython3",
   "version": "3.6.5"
  }
 },
 "nbformat": 4,
 "nbformat_minor": 4
}
